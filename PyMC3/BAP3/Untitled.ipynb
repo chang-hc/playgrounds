{
 "cells": [
  {
   "cell_type": "code",
   "execution_count": 1,
   "id": "f5531a1c-3d98-4691-a71d-a7a1a0e4ebbf",
   "metadata": {},
   "outputs": [],
   "source": [
    "%matplotlib inline"
   ]
  },
  {
   "cell_type": "code",
   "execution_count": 3,
   "id": "dc786a2e-6b86-49fe-a4bb-f50ad7147c37",
   "metadata": {},
   "outputs": [],
   "source": [
    "import matplotlib.pyplot as plt\n",
    "plt.rcParams.update({'figure.figsize':(15,3)})\n",
    "\n",
    "import seaborn as sns\n",
    "sns.set(style='whitegrid')"
   ]
  },
  {
   "cell_type": "code",
   "execution_count": 4,
   "id": "76188748-8301-4eb6-9998-25db04dad330",
   "metadata": {},
   "outputs": [],
   "source": [
    "import bambi as bmb, pandas as pd, numpy as np, arviz as az, pymc as pm\n",
    "import statsmodels.api as sm\n",
    "import statsmodels.formula.api as smf\n"
   ]
  },
  {
   "cell_type": "code",
   "execution_count": null,
   "id": "454e3e3b-81b1-4652-8239-e8bd7eaf5ac9",
   "metadata": {},
   "outputs": [],
   "source": []
  }
 ],
 "metadata": {
  "kernelspec": {
   "display_name": "Python 3 (ipykernel)",
   "language": "python",
   "name": "python3"
  },
  "language_info": {
   "codemirror_mode": {
    "name": "ipython",
    "version": 3
   },
   "file_extension": ".py",
   "mimetype": "text/x-python",
   "name": "python",
   "nbconvert_exporter": "python",
   "pygments_lexer": "ipython3",
   "version": "3.9.13"
  }
 },
 "nbformat": 4,
 "nbformat_minor": 5
}
