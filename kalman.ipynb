{
 "cells": [
  {
   "cell_type": "markdown",
   "id": "bf2e17e0",
   "metadata": {},
   "source": [
    "# Kalman as Bayesian Update with Gaussians "
   ]
  },
  {
   "cell_type": "code",
   "execution_count": null,
   "id": "74107029",
   "metadata": {},
   "outputs": [],
   "source": []
  },
  {
   "cell_type": "code",
   "execution_count": null,
   "id": "8a9f3a6b",
   "metadata": {},
   "outputs": [],
   "source": []
  },
  {
   "cell_type": "code",
   "execution_count": null,
   "id": "29325444",
   "metadata": {},
   "outputs": [],
   "source": []
  },
  {
   "cell_type": "markdown",
   "id": "35f36d95",
   "metadata": {},
   "source": [
    "## Two Prerequisites"
   ]
  },
  {
   "cell_type": "markdown",
   "id": "396a14de",
   "metadata": {},
   "source": [
    "\n",
    "### P1: Two Matrix  Identities\n",
    "\n",
    "#### Id 1: Nameless\n",
    "(Cheking the inverse annhilation, as $\\text{LHS}*\\text{RHS}^{-1}=\\mathbb{1}$)\n",
    "$$\n",
    "(A+B)^{-1} = A^{-1}(A^{-1} + B^{-1})^{-1} B^{-1} \n",
    "$$\n",
    " \n",
    "\n",
    "#### Id 2: [Woodbury Matrix Id](https://en.wikipedia.org/wiki/Woodbury_matrix_identity):\n",
    "$$\n",
    "(X^{-1} + Y^{-1})^{-1} = X - \n",
    "X  (X + Y)^{-1} X\n",
    "$$\n",
    "\n",
    "This follows form the full idenity, after the substuition of $(A,B,C,D)\\hookrightarrow (X^{-1},\\mathbb{1},Y^{-1},\\mathbb{1})$:\n",
    "$$\n",
    "(A + BCD)^{-1} = A^{-1} - \n",
    "A^{-1} B (C^{-1} + D A^{-1} B)^{-1} D A^{-1} \n",
    "$$\n"
   ]
  },
  {
   "cell_type": "markdown",
   "id": "394ee07c",
   "metadata": {},
   "source": [
    "### P2: Posterior = Likelihood $\\times$ Prior, with the above identities\n",
    "\n",
    "We have both:\n",
    "1. $\\mathcal{N}(\\mu_0, \\Sigma_0)$ \n",
    "2. $\\mathcal{N}(\\mu_1, \\Sigma_1)$ \n",
    "\n",
    "\n",
    "The productor of the two: $\\mathcal{N}(\\mu_2, \\Sigma_2)$, with\n",
    "* $\\Sigma_2^{-1} = \\Sigma_0^{-1} + \\Sigma_1^{-1}  $\n",
    "* $\\Sigma_2^{-1}\\mu_2 = \\Sigma_0^{-1} \\mu_0 + \\Sigma_1^{-1} \\mu_1$\n",
    "\n",
    "Using above Woodbury identy, it can be rewritten with $K = \\Sigma_0 (\\Sigma_0 +\\Sigma_1)^{-1}$, as\n",
    "- $\\Sigma_2 = (\\Sigma_0^{-1} + \\Sigma_1^{-1})^{-1} \n",
    "\\stackrel{\\text{Woodbury}}{\\Longrightarrow}\n",
    "\\Sigma_0  - K \\Sigma_0$\n",
    "\n",
    "- $\\mu_2 = \\Sigma_2 (\\Sigma_0^{-1} \\mu_0 + \\Sigma_1^{-1} \\mu_1) \\stackrel{\\text{Nameless}}{\\Longrightarrow} \n",
    "\\mu_0 + K(\\mu_1-\\mu_0)$\n",
    "\n",
    "\n"
   ]
  },
  {
   "cell_type": "code",
   "execution_count": null,
   "id": "622840c9",
   "metadata": {},
   "outputs": [],
   "source": []
  },
  {
   "cell_type": "code",
   "execution_count": null,
   "id": "496ae1d2",
   "metadata": {},
   "outputs": [],
   "source": []
  },
  {
   "cell_type": "markdown",
   "id": "fc10f352",
   "metadata": {},
   "source": [
    "## Our System Specification \n",
    "(aka all the assumptions, for better or worse)\n",
    "\n",
    "Model Specification:\n",
    "With $X \\sim \\mathcal{N}(x,P)$ and $\\xi \\sim \\mathcal{N}(0, Q)$, we have the evolution on top of which, leading to: \n",
    "$$\n",
    "\\begin{align}\n",
    "X(t+1) &= A(t) X(t) +  \\xi(t) \\\\\n",
    "P(t+1) &= A(t) P(t) A(t)^T + Q(t) \n",
    "\\end{align}\n",
    "$$\n",
    "Observation Specification: \n",
    "$$z(t+1)|_{X(t+1)} \\sim \\mathcal{N}(H(t) x(t+1), R(t+1)) $$\n",
    "\n"
   ]
  },
  {
   "cell_type": "code",
   "execution_count": null,
   "id": "f29c9673",
   "metadata": {},
   "outputs": [],
   "source": []
  },
  {
   "cell_type": "code",
   "execution_count": null,
   "id": "9ff204e5",
   "metadata": {},
   "outputs": [],
   "source": []
  },
  {
   "cell_type": "code",
   "execution_count": null,
   "id": "1c203b3e",
   "metadata": {},
   "outputs": [],
   "source": []
  },
  {
   "cell_type": "markdown",
   "id": "65c78324",
   "metadata": {},
   "source": [
    "## Kalman Update, as Bayesian Update of Gaussians\n",
    "\n",
    "From model specification, we have $(x_0,P_0)  \\stackrel{\\text{Model}}{\\longrightarrow} (x_1,P_1)$:\n",
    "* $x_1 \\equiv \\mathbb{E}(X_1) = F x_0$\n",
    "* $P_1 = A P_0 A^T + Q$\n",
    "\n",
    "From observed divation, we have to adjust $(x_1,P_1) \\stackrel{\\text{Obs}}{\\longrightarrow}  (x_2,P_2)$\n",
    "- Prior: $\\mathcal{N}(H x_1, H P_1 H^T)$\n",
    "- Likelihood: $\\mathcal{N}(z,R)$\n",
    "\n",
    "- Posterior: $\\mathcal{N}(H x_2, H P_2 H^T)$\n",
    "    * $K = H P_1 H^T (H P_1 H^T + R)^{-1}$\n",
    "    * $H x_2 = H x_1 + K(z - H x_1 )$\n",
    "    * $H P_2 H^T = H P_1 H^T - K H P_1 H^T$\n",
    "\n",
    "    $\\Rightarrow$ Refining $K = H K_G$, leading to,\n",
    "        - $K_G = P_1 H^T (H P_1 H^T + R)^{-1}$\n",
    "        - $x_2 = x_1 + K_G (z - H x_1 )$\n",
    "        - $P_2 = P_1  - K_G H P_1 $\n"
   ]
  },
  {
   "cell_type": "code",
   "execution_count": null,
   "id": "a6995b61",
   "metadata": {},
   "outputs": [],
   "source": []
  },
  {
   "cell_type": "code",
   "execution_count": null,
   "id": "ae6c98e5",
   "metadata": {},
   "outputs": [],
   "source": []
  },
  {
   "cell_type": "code",
   "execution_count": null,
   "id": "624cacc9",
   "metadata": {},
   "outputs": [],
   "source": []
  },
  {
   "cell_type": "code",
   "execution_count": null,
   "id": "8cea5f45",
   "metadata": {},
   "outputs": [],
   "source": []
  },
  {
   "cell_type": "code",
   "execution_count": null,
   "id": "3d4ecc14",
   "metadata": {},
   "outputs": [],
   "source": []
  },
  {
   "cell_type": "code",
   "execution_count": null,
   "id": "03e7c159",
   "metadata": {},
   "outputs": [],
   "source": []
  }
 ],
 "metadata": {
  "kernelspec": {
   "display_name": "Python 3 (ipykernel)",
   "language": "python",
   "name": "python3"
  },
  "language_info": {
   "codemirror_mode": {
    "name": "ipython",
    "version": 3
   },
   "file_extension": ".py",
   "mimetype": "text/x-python",
   "name": "python",
   "nbconvert_exporter": "python",
   "pygments_lexer": "ipython3",
   "version": "3.9.13"
  }
 },
 "nbformat": 4,
 "nbformat_minor": 5
}
