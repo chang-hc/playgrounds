{
 "cells": [
  {
   "cell_type": "markdown",
   "id": "a2233627",
   "metadata": {},
   "source": [
    "# Kalman as Bayesian Update with Gaussians "
   ]
  },
  {
   "cell_type": "code",
   "execution_count": null,
   "id": "b8354166",
   "metadata": {},
   "outputs": [],
   "source": []
  },
  {
   "cell_type": "code",
   "execution_count": null,
   "id": "fd771843",
   "metadata": {},
   "outputs": [],
   "source": []
  },
  {
   "cell_type": "code",
   "execution_count": null,
   "id": "0f33fab8",
   "metadata": {},
   "outputs": [],
   "source": []
  },
  {
   "cell_type": "markdown",
   "id": "f49971e5",
   "metadata": {},
   "source": [
    "## Two Prerequisites"
   ]
  },
  {
   "cell_type": "markdown",
   "id": "675d5bb8",
   "metadata": {},
   "source": [
    "\n",
    "### P1: Two Matrix  Identities\n",
    "\n",
    "#### Id 1: Nameless\n",
    "(Cheking the inverse annhilation, aka $\\text{LHS}*\\text{RHS}^{-1}=\\mathbb{1}$)\n",
    "$$\n",
    "(A+B)^{-1} = A^{-1}(A^{-1} + B^{-1})^{-1} B^{-1} \n",
    "$$\n",
    " \n",
    "\n",
    "#### Id 2: [Woodbury Matrix Id](https://en.wikipedia.org/wiki/Woodbury_matrix_identity):\n",
    "$$\n",
    "(X^{-1} + Y^{-1})^{-1} = X - \n",
    "X  (X + Y)^{-1} X\n",
    "$$\n",
    "\n",
    "This follows form the full idenity, after the substuition of $(A,B,C,D)\\hookrightarrow (X^{-1},\\mathbb{1},Y^{-1},\\mathbb{1})$:\n",
    "$$\n",
    "(A + BCD)^{-1} = A^{-1} - \n",
    "A^{-1} B (C^{-1} + D A^{-1} B)^{-1} D A^{-1} \n",
    "$$\n"
   ]
  },
  {
   "cell_type": "markdown",
   "id": "6c711a77",
   "metadata": {},
   "source": [
    "### P2: Posterior = Likelihood $\\times$ Prior, with the above identities\n",
    "\n",
    "We have both:\n",
    "1. $\\mathcal{N}(\\mu_0, \\Sigma_0)$ \n",
    "2. $\\mathcal{N}(\\mu_1, \\Sigma_1)$ \n",
    "\n",
    "\n",
    "The productor of the two: $\\mathcal{N}(\\mu_2, \\Sigma_2)$, with\n",
    "* $\\Sigma_2 \\leftarrow \\left\\{ \\Sigma_2^{-1} = \\Sigma_0^{-1} + \\Sigma_1^{-1} \\right\\} $\n",
    "* $\\mu_2 \\leftarrow \\left\\{ \\Sigma_2^{-1}\\mu_2 = \\Sigma_0^{-1} \\mu_0 + \\Sigma_1^{-1} \\mu_1 \\right\\} $\n",
    "\n",
    "Using above Woodbury identy, it can be rewritten with $K = \\Sigma_0 (\\Sigma_0 +\\Sigma_1)^{-1}$, as\n",
    "- $\\Sigma_2 = (\\Sigma_0^{-1} + \\Sigma_1^{-1})^{-1} \n",
    "\\stackrel{\\text{Woodbury}}{\\Longrightarrow}\n",
    "\\Sigma_0  - K \\Sigma_0$\n",
    "\n",
    "- $\\mu_2 = \\Sigma_2 (\\Sigma_0^{-1} \\mu_0 + \\Sigma_1^{-1} \\mu_1) \\stackrel{\\text{Nameless}}{\\Longrightarrow} \n",
    "\\mu_0 + K(\\mu_1-\\mu_0)$\n",
    "\n",
    "\n"
   ]
  },
  {
   "cell_type": "code",
   "execution_count": null,
   "id": "a101b0f1",
   "metadata": {},
   "outputs": [],
   "source": []
  },
  {
   "cell_type": "code",
   "execution_count": null,
   "id": "0c57ab17",
   "metadata": {},
   "outputs": [],
   "source": []
  },
  {
   "cell_type": "markdown",
   "id": "f0fa9ed0",
   "metadata": {},
   "source": [
    "## Our System Specification \n",
    "(aka all the assumptions, for better or worse)\n",
    "\n",
    "Model Specification:\n",
    "On top of $X \\sim \\mathcal{N}(x,P)$ and $\\xi \\sim \\mathcal{N}(0, Q)$, we also have the evolution equation, leading to: \n",
    "$$\n",
    "\\begin{align}\n",
    "X(t+1) &= A(t) X(t) +  \\xi(t) \\\\\n",
    "P(t+1) &= A(t) P(t) A(t)^T + Q(t) \n",
    "\\end{align}\n",
    "$$\n",
    "Observation Specification: \n",
    "$$z(t+1)|_{X(t+1)} \\sim \\mathcal{N}(H(t) x(t+1), R(t+1)) $$\n",
    "\n"
   ]
  },
  {
   "cell_type": "code",
   "execution_count": null,
   "id": "e43896f6",
   "metadata": {},
   "outputs": [],
   "source": []
  },
  {
   "cell_type": "code",
   "execution_count": null,
   "id": "dfcf1f56",
   "metadata": {},
   "outputs": [],
   "source": []
  },
  {
   "cell_type": "code",
   "execution_count": null,
   "id": "8ae85a8a",
   "metadata": {},
   "outputs": [],
   "source": []
  },
  {
   "cell_type": "markdown",
   "id": "ebd5e180",
   "metadata": {},
   "source": [
    "## Kalman Update, as Bayesian Update of Gaussians\n",
    "\n",
    "From model specification, we have $(x_0,P_0)  \\stackrel{\\text{Model}}{\\longrightarrow} (x_1,P_1)$:\n",
    "* $x_1 \\equiv \\mathbb{E}(X_1) = F x_0$\n",
    "* $P_1 = A P_0 A^T + Q$\n",
    "\n",
    "From observed divation, we have to adjust $(x_1,P_1) \\stackrel{\\text{Obs}}{\\longrightarrow}  (x_2,P_2)$\n",
    "- $z$-space Prior: $\\mathcal{N}(H x_1, H P_1 H^T)$\n",
    "- $z$-space Likelihood: $\\mathcal{N}(z,R)$\n",
    "\n",
    "- $z$-space Posterior: $\\mathcal{N}(H x_2, H P_2 H^T)$\n",
    "    * $K = H P_1 H^T (H P_1 H^T + R)^{-1}$\n",
    "    * $H x_2 = H x_1 + K(z - H x_1 )$\n",
    "    * $H P_2 H^T = H P_1 H^T - K H P_1 H^T$\n",
    "\n",
    "- Refining $K = H K_G$, we have,\n",
    "    - $K_G = P_1 H^T (H P_1 H^T + R)^{-1}$\n",
    "    - $x_2 = x_1 + K_G (z - H x_1 )$\n",
    "    - $P_2 = P_1  - K_G H P_1 $\n"
   ]
  },
  {
   "cell_type": "code",
   "execution_count": null,
   "id": "b90a5876",
   "metadata": {},
   "outputs": [],
   "source": []
  },
  {
   "cell_type": "code",
   "execution_count": null,
   "id": "bbeb5d3a",
   "metadata": {},
   "outputs": [],
   "source": []
  },
  {
   "cell_type": "code",
   "execution_count": null,
   "id": "e7959fea",
   "metadata": {},
   "outputs": [],
   "source": []
  },
  {
   "cell_type": "code",
   "execution_count": null,
   "id": "35cd4278",
   "metadata": {},
   "outputs": [],
   "source": []
  },
  {
   "cell_type": "code",
   "execution_count": null,
   "id": "6bea3909",
   "metadata": {},
   "outputs": [],
   "source": []
  },
  {
   "cell_type": "code",
   "execution_count": null,
   "id": "ce2d251a",
   "metadata": {},
   "outputs": [],
   "source": []
  }
 ],
 "metadata": {
  "kernelspec": {
   "display_name": "Python 3 (ipykernel)",
   "language": "python",
   "name": "python3"
  },
  "language_info": {
   "codemirror_mode": {
    "name": "ipython",
    "version": 3
   },
   "file_extension": ".py",
   "mimetype": "text/x-python",
   "name": "python",
   "nbconvert_exporter": "python",
   "pygments_lexer": "ipython3",
   "version": "3.9.13"
  }
 },
 "nbformat": 4,
 "nbformat_minor": 5
}
